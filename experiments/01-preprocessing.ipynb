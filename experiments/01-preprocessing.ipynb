{
 "cells": [
  {
   "cell_type": "code",
   "execution_count": 27,
   "id": "8df3709e",
   "metadata": {},
   "outputs": [],
   "source": [
    "import os\n",
    "import re\n",
    "import csv\n",
    "import nltk\n",
    "import enchant\n",
    "import preprocessor\n",
    "from collections import defaultdict\n",
    "from Sastrawi.Stemmer.StemmerFactory import StemmerFactory\n",
    "from Sastrawi.StopWordRemover.StopWordRemoverFactory import StopWordRemoverFactory"
   ]
  },
  {
   "cell_type": "code",
   "execution_count": 28,
   "id": "9f57185a",
   "metadata": {},
   "outputs": [],
   "source": [
    "en_dict = enchant.Dict(\"en_US\")\n",
    "id_words = []\n",
    "\n",
    "with open('dictionary/wordlist-id.txt', 'r') as file:\n",
    "    for word in file:\n",
    "        id_words.append(word)"
   ]
  },
  {
   "cell_type": "code",
   "execution_count": 29,
   "id": "c37cb69b",
   "metadata": {},
   "outputs": [],
   "source": [
    "def casefolding(review):\n",
    "    review = review.lower()\n",
    "    return review\n",
    "  \n",
    "def filtering(review):\n",
    "    review = re.sub(r'@[^\\s]+', '', review)  # @username\n",
    "    review = re.sub(r'#([^\\s]+)', '', review)  # hashtag\n",
    "    review = re.sub(r'https:[^\\s]+', '', review)  # URL links\n",
    "    review = re.sub(r\"[.,:;+!\\-_<^/=?\\\"'\\(\\)\\d\\*]\", \" \", review)  # symbol, char\n",
    "    review = re.sub(r'[^\\x00-\\x7f]+', '', review)  # non ASCII chars\n",
    "    review = re.sub(r'\\s+', ' ', review)  # duplicate whitespace\n",
    "    return preprocessor.clean(review)\n",
    "  \n",
    "def tokenizing(review):\n",
    "    token = nltk.word_tokenize(review)\n",
    "    return token\n",
    "  \n",
    "def stemming(review):\n",
    "    factory = StemmerFactory()\n",
    "    stemmer = factory.create_stemmer()\n",
    "    review = stemmer.stem(review)\n",
    "    return review\n",
    "  \n",
    "def stop_word_removing(review):\n",
    "    factory = StopWordRemoverFactory()\n",
    "    stopword = factory.create_stop_word_remover()\n",
    "    review = stopword.remove(review)\n",
    "    return review\n",
    "  \n",
    "def slang_word_converting(review):\n",
    "    slangwords = {}\n",
    "    with open('dictionary/slangword-id.txt') as file:\n",
    "        for line in file:\n",
    "            words = line.split('=')\n",
    "            slangwords[words[0]] = words[1].strip()\n",
    "    \n",
    "    result = []            \n",
    "    for word in review.split():\n",
    "        if word in slangwords:\n",
    "            word = slangwords[word]\n",
    "        result.append(word)\n",
    "    result = ' '.join(result)\n",
    "\n",
    "    return result\n",
    "  \n",
    "def character_repeating(review):\n",
    "    pattern = re.compile(r\"(.)\\1{1,}\", re.DOTALL)\n",
    "    temp = ''\n",
    "    for word in review.split():\n",
    "        if word != '':\n",
    "            if en_dict.check(word):\n",
    "                temp += word + ' '\n",
    "            elif word in id_words:\n",
    "                temp += word + ' '\n",
    "            else:\n",
    "                temp += pattern.sub(r\"\\1\", word) + ' '\n",
    "    \n",
    "    return temp"
   ]
  },
  {
   "cell_type": "code",
   "execution_count": 30,
   "id": "54e1bd9a",
   "metadata": {},
   "outputs": [],
   "source": [
    "def preprocess_tweet(filename):\n",
    "    columns = defaultdict(list)\n",
    "    with open(filename, 'r', encoding='utf-8') as file:\n",
    "        reader = csv.DictReader(file)\n",
    "        for row in reader:\n",
    "            for (k, v) in row.items():\n",
    "                columns[k].append(v)\n",
    "\n",
    "    username = filename.split(\"@\")[-1].replace(\".csv\", \"\")\n",
    "    \n",
    "    output_file = \"dataset/processed/processed-tweets-@\" + username + \".csv\"\n",
    "    with open(output_file, 'w') as processed_file:\n",
    "        processed_file.write('username,tweet\\n')\n",
    "        for tweet in columns['text']:\n",
    "            tweet = filtering(str(tweet))\n",
    "            tweet = casefolding(str(tweet))\n",
    "            tweet = character_repeating(str(tweet))\n",
    "            tweet = stemming(str(tweet))\n",
    "            tweet = stop_word_removing(str(tweet))\n",
    "            tweet = slang_word_converting(str(tweet))\n",
    "            if tweet != '':\n",
    "                processed_file.write(str(username) + ',' + str(tweet))\n",
    "                processed_file.write('\\n')\n",
    "\n",
    "    print(f\"Preprocessing @{username} tweets completed.\")"
   ]
  },
  {
   "cell_type": "code",
   "execution_count": 31,
   "id": "afc736a3",
   "metadata": {},
   "outputs": [
    {
     "name": "stdout",
     "output_type": "stream",
     "text": [
      "Preprocessing @9ita7unn tweets completed.\n",
      "Preprocessing @a2lir tweets completed.\n",
      "Preprocessing @abcdenjiii tweets completed.\n",
      "Preprocessing @achadianrani tweets completed.\n",
      "Preprocessing @Adamumemo tweets completed.\n"
     ]
    }
   ],
   "source": [
    "dataset_path = \"dataset/crawled\"\n",
    "dataset_files = os.listdir(dataset_path)\n",
    "for file in dataset_files[:5]:\n",
    "  if file.endswith(\".csv\"):\n",
    "    filename = os.path.join(dataset_path, file)\n",
    "    preprocess_tweet(filename)"
   ]
  },
  {
   "cell_type": "code",
   "execution_count": null,
   "id": "c3d721d6",
   "metadata": {},
   "outputs": [],
   "source": []
  }
 ],
 "metadata": {
  "kernelspec": {
   "display_name": ".venv",
   "language": "python",
   "name": "python3"
  },
  "language_info": {
   "codemirror_mode": {
    "name": "ipython",
    "version": 3
   },
   "file_extension": ".py",
   "mimetype": "text/x-python",
   "name": "python",
   "nbconvert_exporter": "python",
   "pygments_lexer": "ipython3",
   "version": "3.11.4"
  }
 },
 "nbformat": 4,
 "nbformat_minor": 5
}
